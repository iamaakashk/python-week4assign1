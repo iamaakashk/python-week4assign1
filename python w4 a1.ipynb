{
 "cells": [
  {
   "cell_type": "code",
   "execution_count": 44,
   "id": "14600f5f-f973-4164-85ce-a65d4391fb79",
   "metadata": {},
   "outputs": [],
   "source": [
    "#q1 and q2"
   ]
  },
  {
   "cell_type": "code",
   "execution_count": 1,
   "id": "e4654fb4-7cb1-486a-861c-87a1a64fe0d9",
   "metadata": {},
   "outputs": [],
   "source": [
    "class car :\n",
    "    def __init__(self,name_of_vehicle, max_speed , avarage_of_vehicle ):\n",
    "        \n",
    "    \n",
    "        self.name_of_vehicle= name_of_vehicle\n",
    "        self.max_speed      = max_speed \n",
    "        self.avarage_of_vehicle= avarage_of_vehicle\n",
    "    \n",
    "    def return_car_info(self) :\n",
    "        return self.name_of_vehicle , self.max_speed , self.avarage_of_vehicle"
   ]
  },
  {
   "cell_type": "code",
   "execution_count": 2,
   "id": "7c90d303-b282-459a-bb0e-2cc6c0410211",
   "metadata": {},
   "outputs": [],
   "source": [
    "newcar= car(\"bmw\",240,160)"
   ]
  },
  {
   "cell_type": "code",
   "execution_count": 3,
   "id": "3a2e49e5-2190-4764-a9e7-97f141dac32e",
   "metadata": {},
   "outputs": [],
   "source": [
    "class child_test(car) :\n",
    "    \n",
    "    \n",
    "    def __init__(self, name_of_vehicle, max_speed , avarage_of_vehicle, seating_capacity):\n",
    "        self.seating_capacity = seating_capacity\n",
    "        \n",
    "        \n",
    "    def seating_capacity(self):\n",
    "        return self.name_of_vehicle , self.max_speed , self.avarage_of_vehicle,self.seating_capacity\n"
   ]
  },
  {
   "cell_type": "code",
   "execution_count": 4,
   "id": "4d5b47d2-eeca-497e-917e-d191a55aee02",
   "metadata": {},
   "outputs": [],
   "source": [
    "#q3"
   ]
  },
  {
   "cell_type": "code",
   "execution_count": 5,
   "id": "1ad09824-edf6-4d4b-b7ed-f1ade0269d34",
   "metadata": {},
   "outputs": [],
   "source": [
    "# youll be able to inherit the properties from all previous classes altogether is known as multiple inheritance"
   ]
  },
  {
   "cell_type": "code",
   "execution_count": 6,
   "id": "83d2737e-c7f3-4be5-b0a6-a5e3cb8f086d",
   "metadata": {},
   "outputs": [],
   "source": [
    "class class1:\n",
    "    def result_1(self) : \n",
    "        print(\"roll no. 1 has got 89%\" )"
   ]
  },
  {
   "cell_type": "code",
   "execution_count": 7,
   "id": "0f261c81-21a0-435c-93e9-9b0350c19fdb",
   "metadata": {},
   "outputs": [],
   "source": [
    "class class2 :\n",
    "    def result_2(self) : \n",
    "        print (\"roll no. 2 has got 91%\")"
   ]
  },
  {
   "cell_type": "code",
   "execution_count": 8,
   "id": "66b5cc3f-95bd-403d-a17c-38914ad00636",
   "metadata": {},
   "outputs": [],
   "source": [
    "class know_the_result (class1, class2) :\n",
    "    pass"
   ]
  },
  {
   "cell_type": "code",
   "execution_count": 9,
   "id": "af8d7779-b7fb-45aa-a4e7-225735315571",
   "metadata": {},
   "outputs": [],
   "source": [
    "result=know_the_result() "
   ]
  },
  {
   "cell_type": "code",
   "execution_count": 10,
   "id": "585558e6-9c6b-484f-bfd1-3980fc3f9193",
   "metadata": {},
   "outputs": [
    {
     "name": "stdout",
     "output_type": "stream",
     "text": [
      "roll no. 2 has got 91%\n"
     ]
    }
   ],
   "source": [
    "result.result_2()"
   ]
  },
  {
   "cell_type": "code",
   "execution_count": 11,
   "id": "9f236d13-6d68-4747-a661-216efc4f0487",
   "metadata": {},
   "outputs": [],
   "source": [
    "#q4"
   ]
  },
  {
   "cell_type": "code",
   "execution_count": 12,
   "id": "f3a65874-af76-49ff-893c-a55bade3ecd3",
   "metadata": {},
   "outputs": [
    {
     "data": {
      "text/plain": [
       "'getter and setter is the concept from the encapculation as if we want to give the freedom to user\\nto change the input value of perticular argument then we can use set comment and to see the output we can use get comment'"
      ]
     },
     "execution_count": 12,
     "metadata": {},
     "output_type": "execute_result"
    }
   ],
   "source": [
    "\"\"\"getter and setter is the concept from the encapculation as if we want to give the freedom to user\n",
    "to change the input value of perticular argument then we can use set comment and to see the output we can use get comment\"\"\" \n",
    " "
   ]
  },
  {
   "cell_type": "code",
   "execution_count": 13,
   "id": "0329e516-15f9-4142-a8d7-7f97ae6bf5bc",
   "metadata": {},
   "outputs": [],
   "source": [
    "class mobile_phone :\n",
    "    def __init__(self , year , name , model, storage ) : \n",
    "        \n",
    "        self.__year = year \n",
    "        self.__name = name\n",
    "        self.__model = model\n",
    "        self.__storage = 64\n",
    "        \n",
    "    def set_storage(self,storage) : \n",
    "        self.__storage = storage\n",
    "        \n",
    "    def get_storage(self)  : \n",
    "        return self.__storage"
   ]
  },
  {
   "cell_type": "code",
   "execution_count": 14,
   "id": "e02b7085-af9a-4d2f-b46d-4d232da5b784",
   "metadata": {},
   "outputs": [],
   "source": [
    "m=mobile_phone(2021,\"samsung\",\"galaxys20\",64)"
   ]
  },
  {
   "cell_type": "code",
   "execution_count": 15,
   "id": "a3337117-70df-4eb7-8836-e031bb4f8e47",
   "metadata": {},
   "outputs": [
    {
     "data": {
      "text/plain": [
       "64"
      ]
     },
     "execution_count": 15,
     "metadata": {},
     "output_type": "execute_result"
    }
   ],
   "source": [
    "m.get_storage()"
   ]
  },
  {
   "cell_type": "code",
   "execution_count": 16,
   "id": "64eab754-6dc3-43fc-953e-29d2931edc27",
   "metadata": {},
   "outputs": [],
   "source": [
    "m.set_storage(256)"
   ]
  },
  {
   "cell_type": "code",
   "execution_count": 17,
   "id": "145af959-a36c-40b4-bd27-22898c9d19ef",
   "metadata": {},
   "outputs": [
    {
     "data": {
      "text/plain": [
       "256"
      ]
     },
     "execution_count": 17,
     "metadata": {},
     "output_type": "execute_result"
    }
   ],
   "source": [
    "m.get_storage()"
   ]
  },
  {
   "cell_type": "code",
   "execution_count": 18,
   "id": "496db5ee-9b85-48ec-8bfa-724082a431e0",
   "metadata": {},
   "outputs": [
    {
     "data": {
      "text/plain": [
       "'galaxys20'"
      ]
     },
     "execution_count": 18,
     "metadata": {},
     "output_type": "execute_result"
    }
   ],
   "source": [
    "m._mobile_phone__model"
   ]
  },
  {
   "cell_type": "code",
   "execution_count": 19,
   "id": "a883a71d-3395-4492-8dbb-047ee5f41879",
   "metadata": {},
   "outputs": [],
   "source": [
    "#q5"
   ]
  },
  {
   "cell_type": "code",
   "execution_count": 20,
   "id": "af38f2c3-de08-4f81-963c-d7194d1b840d",
   "metadata": {},
   "outputs": [
    {
     "data": {
      "text/plain": [
       "'Method overriding in Python is when a child class defines a method with the same name, parameters,\\nand return type as a method in the parent class. When the child class method is called, \\nit overrides the parent class method.'"
      ]
     },
     "execution_count": 20,
     "metadata": {},
     "output_type": "execute_result"
    }
   ],
   "source": [
    "\"\"\"Method overriding in Python is when a child class defines a method with the same name, parameters,\n",
    "and return type as a method in the parent class. When the child class method is called, \n",
    "it overrides the parent class method.\"\"\"\n"
   ]
  },
  {
   "cell_type": "code",
   "execution_count": 24,
   "id": "a0c87ff6-35f0-4b3d-b3b9-76452817236c",
   "metadata": {},
   "outputs": [],
   "source": [
    "class Animal:\n",
    "    def intro(self):\n",
    "        print(\"I am an animal.\")\n",
    "\n",
    "class Dog(Animal):\n",
    "    def intro(self):\n",
    "        print(\"I am a dog.\")"
   ]
  },
  {
   "cell_type": "code",
   "execution_count": 25,
   "id": "2858f6f4-ce56-49a2-8181-e9f4ead58e6d",
   "metadata": {},
   "outputs": [],
   "source": [
    "woofy=Animal()"
   ]
  },
  {
   "cell_type": "code",
   "execution_count": 26,
   "id": "08aebc67-38c0-4fc2-8232-5d274c9b506e",
   "metadata": {},
   "outputs": [
    {
     "name": "stdout",
     "output_type": "stream",
     "text": [
      "I am an animal.\n"
     ]
    }
   ],
   "source": [
    "woofy.intro()"
   ]
  },
  {
   "cell_type": "code",
   "execution_count": 27,
   "id": "366242a5-42a5-4ead-93df-9ddb61d06730",
   "metadata": {},
   "outputs": [],
   "source": [
    "goofy=Dog()"
   ]
  },
  {
   "cell_type": "code",
   "execution_count": 28,
   "id": "01014863-c8c6-47a3-8855-c8fd7c10e0e4",
   "metadata": {},
   "outputs": [
    {
     "name": "stdout",
     "output_type": "stream",
     "text": [
      "I am a dog.\n"
     ]
    }
   ],
   "source": [
    "goofy.intro()"
   ]
  },
  {
   "cell_type": "code",
   "execution_count": null,
   "id": "7ca472b2-214c-49b5-bada-ec6a8c38297a",
   "metadata": {},
   "outputs": [],
   "source": []
  }
 ],
 "metadata": {
  "kernelspec": {
   "display_name": "Python 3 (ipykernel)",
   "language": "python",
   "name": "python3"
  },
  "language_info": {
   "codemirror_mode": {
    "name": "ipython",
    "version": 3
   },
   "file_extension": ".py",
   "mimetype": "text/x-python",
   "name": "python",
   "nbconvert_exporter": "python",
   "pygments_lexer": "ipython3",
   "version": "3.10.8"
  }
 },
 "nbformat": 4,
 "nbformat_minor": 5
}
